{
 "cells": [
  {
   "cell_type": "code",
   "execution_count": 1,
   "metadata": {},
   "outputs": [],
   "source": [
    "import matplotlib.pyplot as plt\n",
    "import numpy as np       \n",
    "import copy\n",
    "\n",
    "from qiskit import QuantumCircuit, QuantumRegister, ClassicalRegister, assemble\n",
    "from collections.abc import Iterable\n"
   ]
  },
  {
   "cell_type": "markdown",
   "metadata": {},
   "source": [
    "## A-gen-prep Circuit Verification"
   ]
  },
  {
   "cell_type": "code",
   "execution_count": 2,
   "metadata": {},
   "outputs": [],
   "source": [
    "# Construct A operator that takes |0>_{n+1} to sqrt(1-a) |psi_0>|0> + sqrt(a) |psi_1>|1>\n",
    "def A_gen(num_state_qubits, a, psi_zero=None, psi_one=None):\n",
    "\n",
    "    if psi_zero==None:\n",
    "        psi_zero = '0'*num_state_qubits\n",
    "    if psi_one==None:\n",
    "        psi_one = '1'*num_state_qubits\n",
    "        \n",
    "    theta = 2 * np.arcsin(np.sqrt(a))\n",
    "    # Let the objective be qubit index n; state is on qubits 0 through n-1\n",
    "    qc_A = QuantumCircuit(num_state_qubits+1, name=f\"A\")\n",
    "    \n",
    "    qc_A.ry(theta, num_state_qubits)\n",
    "    \n",
    "    qc_A.x(num_state_qubits)\n",
    "\n",
    "    for i in range(num_state_qubits):\n",
    "        if psi_zero[i]=='1':\n",
    "            qc_A.cnot(num_state_qubits,i)\n",
    "            \n",
    "    qc_A.x(num_state_qubits)\n",
    "    \n",
    "    for i in range(num_state_qubits):\n",
    "        if psi_one[i]=='1':\n",
    "            qc_A.cnot(num_state_qubits,i)\n",
    "\n",
    "    return qc_A"
   ]
  },
  {
   "cell_type": "markdown",
   "metadata": {},
   "source": [
    "## Ctrl_Q Validations"
   ]
  },
  {
   "cell_type": "code",
   "execution_count": 3,
   "metadata": {},
   "outputs": [],
   "source": [
    "# Construct the grover-like operator and a controlled version of it\n",
    "def Ctrl_Q(num_state_qubits, A_circ):\n",
    "\n",
    "    # index n is the objective qubit, and indexes 0 through n-1 are state qubits\n",
    "    qc = QuantumCircuit(num_state_qubits+1, name=f\"Q\")\n",
    "    \n",
    "    temp_A = copy.copy(A_circ)\n",
    "    A_gate = temp_A.to_gate()\n",
    "    A_gate_inv = temp_A.inverse().to_gate()\n",
    "    \n",
    "    ### Each cycle in Q applies in order: S_chi, A_circ_inverse, S_0, A_circ \n",
    "    # S_chi\n",
    "    qc.z(num_state_qubits)\n",
    "        \n",
    "    # A_circ_inverse\n",
    "    qc.append(A_gate_inv, [i for i in range(num_state_qubits+1)])\n",
    "        \n",
    "    # S_0\n",
    "    for i in range(num_state_qubits+1):\n",
    "        qc.x(i)\n",
    "    qc.h(num_state_qubits)\n",
    "    \n",
    "    qc.mcx([x for x in range(num_state_qubits)], num_state_qubits)\n",
    "    \n",
    "    qc.h(num_state_qubits)\n",
    "    for i in range(num_state_qubits+1):\n",
    "        qc.x(i)\n",
    "        \n",
    "    # A_circ\n",
    "    qc.append(A_gate, [i for i in range(num_state_qubits+1)])\n",
    "\n",
    "    # add \"global\" phase\n",
    "    qc.x(num_state_qubits)\n",
    "    qc.z(num_state_qubits)\n",
    "    qc.x(num_state_qubits)\n",
    "    qc.z(num_state_qubits)\n",
    "    \n",
    "    # Create a gate out of the Q operator\n",
    "    qc.to_gate(label='Q')\n",
    "    \n",
    "    # and also a controlled version of it\n",
    "    Ctrl_Q_ = qc.control(1)\n",
    "    \n",
    "    # and return both\n",
    "    return Ctrl_Q_, qc"
   ]
  },
  {
   "cell_type": "code",
   "execution_count": 4,
   "metadata": {},
   "outputs": [
    {
     "ename": "QiskitError",
     "evalue": "'No counts for experiment \"0\"'",
     "output_type": "error",
     "traceback": [
      "\u001b[0;31m---------------------------------------------------------------------------\u001b[0m",
      "\u001b[0;31mQiskitError\u001b[0m                               Traceback (most recent call last)",
      "Cell \u001b[0;32mIn[4], line 21\u001b[0m\n\u001b[1;32m     19\u001b[0m job \u001b[38;5;241m=\u001b[39m execute(qc_, backend, shots\u001b[38;5;241m=\u001b[39m\u001b[38;5;241m1000\u001b[39m)\n\u001b[1;32m     20\u001b[0m result \u001b[38;5;241m=\u001b[39m job\u001b[38;5;241m.\u001b[39mresult()\n\u001b[0;32m---> 21\u001b[0m counts \u001b[38;5;241m=\u001b[39m \u001b[43mresult\u001b[49m\u001b[38;5;241;43m.\u001b[39;49m\u001b[43mget_counts\u001b[49m\u001b[43m(\u001b[49m\u001b[43m)\u001b[49m\n\u001b[1;32m     22\u001b[0m \u001b[38;5;28mprint\u001b[39m(counts)\n",
      "File \u001b[0;32m~/Desktop/QSim_Repo/qiskit-aakash/qiskit/result/result.py:300\u001b[0m, in \u001b[0;36mResult.get_counts\u001b[0;34m(self, experiment)\u001b[0m\n\u001b[1;32m    298\u001b[0m         dict_list\u001b[38;5;241m.\u001b[39mappend(statevector\u001b[38;5;241m.\u001b[39mStatevector(vec)\u001b[38;5;241m.\u001b[39mprobabilities_dict(decimals\u001b[38;5;241m=\u001b[39m\u001b[38;5;241m15\u001b[39m))\n\u001b[1;32m    299\u001b[0m     \u001b[38;5;28;01melse\u001b[39;00m:\n\u001b[0;32m--> 300\u001b[0m         \u001b[38;5;28;01mraise\u001b[39;00m QiskitError(\u001b[38;5;124mf\u001b[39m\u001b[38;5;124m'\u001b[39m\u001b[38;5;124mNo counts for experiment \u001b[39m\u001b[38;5;124m\"\u001b[39m\u001b[38;5;132;01m{\u001b[39;00m\u001b[38;5;28mrepr\u001b[39m(key)\u001b[38;5;132;01m}\u001b[39;00m\u001b[38;5;124m\"\u001b[39m\u001b[38;5;124m'\u001b[39m)\n\u001b[1;32m    302\u001b[0m \u001b[38;5;66;03m# Return first item of dict_list if size is 1\u001b[39;00m\n\u001b[1;32m    303\u001b[0m \u001b[38;5;28;01mif\u001b[39;00m \u001b[38;5;28mlen\u001b[39m(dict_list) \u001b[38;5;241m==\u001b[39m \u001b[38;5;241m1\u001b[39m:\n",
      "\u001b[0;31mQiskitError\u001b[0m: 'No counts for experiment \"0\"'"
     ]
    }
   ],
   "source": [
    "num_q = 3\n",
    "\n",
    "qr_ = QuantumRegister(num_q+1)\n",
    "cr_ = ClassicalRegister(num_q+1)\n",
    "qc_ = QuantumCircuit(qr_, cr_)\n",
    "\n",
    "a = 1/8\n",
    "\n",
    "A = A_gen(num_q, a)\n",
    "_, Q = Ctrl_Q(num_q, A)\n",
    "\n",
    "qc_.append(A, qr_)\n",
    "# qc_.append(Q, qr_)\n",
    "qc_.measure(qr_, cr_)\n",
    "\n",
    "\n",
    "from qiskit import execute, BasicAer\n",
    "backend = BasicAer.get_backend(\"dm_simulator\")\n",
    "job = execute(qc_, backend, shots=1000)\n",
    "result = job.result()\n",
    "counts = result.get_counts()\n",
    "print(counts)"
   ]
  },
  {
   "cell_type": "code",
   "execution_count": null,
   "metadata": {},
   "outputs": [],
   "source": [
    "num_q = 1\n",
    "\n",
    "qr_ = QuantumRegister(num_q+1)\n",
    "cr_ = ClassicalRegister(num_q+1)\n",
    "qc_ = QuantumCircuit(qr_, cr_)\n",
    "\n",
    "a = 1/5\n",
    "\n",
    "A = A_gen(num_q, a)\n",
    "_, Q = Ctrl_Q(num_q, A)\n",
    "\n",
    "qc_.append(Q, qr_)\n",
    "display(qc_.draw())\n",
    "qc_ = qc_.decompose().decompose()\n",
    "\n",
    "usim = Aer.get_backend('unitary_simulator')\n",
    "qobj = assemble(qc_)\n",
    "unitary = usim.run(qobj).result().get_unitary()\n",
    "print(np.round(unitary, 6))"
   ]
  },
  {
   "cell_type": "code",
   "execution_count": null,
   "metadata": {},
   "outputs": [],
   "source": [
    "\n"
   ]
  },
  {
   "cell_type": "code",
   "execution_count": null,
   "metadata": {},
   "outputs": [],
   "source": []
  }
 ],
 "metadata": {
  "kernelspec": {
   "display_name": "Python 3 (ipykernel)",
   "language": "python",
   "name": "python3"
  },
  "language_info": {
   "codemirror_mode": {
    "name": "ipython",
    "version": 3
   },
   "file_extension": ".py",
   "mimetype": "text/x-python",
   "name": "python",
   "nbconvert_exporter": "python",
   "pygments_lexer": "ipython3",
   "version": "3.8.13"
  }
 },
 "nbformat": 4,
 "nbformat_minor": 4
}
