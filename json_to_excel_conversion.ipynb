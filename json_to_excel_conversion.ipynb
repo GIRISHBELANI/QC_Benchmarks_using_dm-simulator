{
 "cells": [
  {
   "cell_type": "code",
   "execution_count": 1,
   "id": "7fb78a9e-ef4e-444d-a7f9-0631d569e3d5",
   "metadata": {},
   "outputs": [
    {
     "name": "stdout",
     "output_type": "stream",
     "text": [
      "Data successfully written to DATA-deutsch-jozsa-qsim-dm_simulator.xlsx\n"
     ]
    },
    {
     "name": "stderr",
     "output_type": "stream",
     "text": [
      "/home/cdac/anaconda3/envs/QiskitAakash/lib/python3.8/site-packages/openpyxl/workbook/child.py:99: UserWarning: Title is more than 31 characters. Some applications may not be able to read the file\n",
      "  warnings.warn(\"Title is more than 31 characters. Some applications may not be able to read the file\")\n"
     ]
    }
   ],
   "source": [
    "import os\n",
    "import sys\n",
    "sys.path[1:1] = [ \"_common/qsim\", \"../../_common/qsim\" ]\n",
    "import metrics as metrics\n",
    "\n",
    "# Define the benchmark folder and API as needed (leave blank to get json file from top-level __data folder)\n",
    "benchmark_folder = 'deutsch-jozsa'      # folder name\n",
    "api = 'qsim'            \n",
    "backend_id = 'dm_simulator'       \n",
    "\n",
    "# Call the json_to_excel function\n",
    "metrics.json_to_excel(benchmark_folder, api, backend_id)\n"
   ]
  },
  {
   "cell_type": "code",
   "execution_count": null,
   "id": "ed3f0923-9fe3-450d-b74d-f460c65265cc",
   "metadata": {},
   "outputs": [],
   "source": []
  }
 ],
 "metadata": {
  "kernelspec": {
   "display_name": "Python 3 (ipykernel)",
   "language": "python",
   "name": "python3"
  },
  "language_info": {
   "codemirror_mode": {
    "name": "ipython",
    "version": 3
   },
   "file_extension": ".py",
   "mimetype": "text/x-python",
   "name": "python",
   "nbconvert_exporter": "python",
   "pygments_lexer": "ipython3",
   "version": "3.8.13"
  }
 },
 "nbformat": 4,
 "nbformat_minor": 5
}
